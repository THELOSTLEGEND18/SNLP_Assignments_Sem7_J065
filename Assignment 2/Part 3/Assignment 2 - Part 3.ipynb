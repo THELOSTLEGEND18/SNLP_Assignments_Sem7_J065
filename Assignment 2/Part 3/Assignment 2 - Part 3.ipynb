{
 "cells": [
  {
   "cell_type": "code",
   "execution_count": 4,
   "id": "4782aca4",
   "metadata": {},
   "outputs": [
    {
     "data": {
      "text/html": [
       "<div>\n",
       "<style scoped>\n",
       "    .dataframe tbody tr th:only-of-type {\n",
       "        vertical-align: middle;\n",
       "    }\n",
       "\n",
       "    .dataframe tbody tr th {\n",
       "        vertical-align: top;\n",
       "    }\n",
       "\n",
       "    .dataframe thead th {\n",
       "        text-align: right;\n",
       "    }\n",
       "</style>\n",
       "<table border=\"1\" class=\"dataframe\">\n",
       "  <thead>\n",
       "    <tr style=\"text-align: right;\">\n",
       "      <th></th>\n",
       "      <th>input_text</th>\n",
       "      <th>target_gender</th>\n",
       "      <th>expected_output</th>\n",
       "    </tr>\n",
       "  </thead>\n",
       "  <tbody>\n",
       "    <tr>\n",
       "      <th>0</th>\n",
       "      <td>He is going to the market.</td>\n",
       "      <td>female</td>\n",
       "      <td>She is going to the market.</td>\n",
       "    </tr>\n",
       "    <tr>\n",
       "      <th>1</th>\n",
       "      <td>His book is on the table.</td>\n",
       "      <td>female</td>\n",
       "      <td>Her book is on the table.</td>\n",
       "    </tr>\n",
       "    <tr>\n",
       "      <th>2</th>\n",
       "      <td>I saw him yesterday.</td>\n",
       "      <td>female</td>\n",
       "      <td>I saw her yesterday.</td>\n",
       "    </tr>\n",
       "    <tr>\n",
       "      <th>3</th>\n",
       "      <td>He hurt himself.</td>\n",
       "      <td>female</td>\n",
       "      <td>She hurt herself.</td>\n",
       "    </tr>\n",
       "    <tr>\n",
       "      <th>4</th>\n",
       "      <td>I called him last night.</td>\n",
       "      <td>female</td>\n",
       "      <td>I called her last night.</td>\n",
       "    </tr>\n",
       "  </tbody>\n",
       "</table>\n",
       "</div>"
      ],
      "text/plain": [
       "                   input_text target_gender              expected_output\n",
       "0  He is going to the market.        female  She is going to the market.\n",
       "1   His book is on the table.        female    Her book is on the table.\n",
       "2        I saw him yesterday.        female         I saw her yesterday.\n",
       "3            He hurt himself.        female            She hurt herself.\n",
       "4    I called him last night.        female     I called her last night."
      ]
     },
     "execution_count": 4,
     "metadata": {},
     "output_type": "execute_result"
    }
   ],
   "source": [
    "import spacy\n",
    "nlp = spacy.load(\"en_core_web_sm\")\n",
    "\n",
    "pronoun_testcases = pd.read_csv(\"pronoun_testcases.csv\")\n",
    "pronoun_testcases.head()"
   ]
  },
  {
   "cell_type": "code",
   "execution_count": 5,
   "id": "0b52dd79",
   "metadata": {},
   "outputs": [],
   "source": [
    "def transform_pronouns(text):\n",
    "    doc = nlp(text)\n",
    "    \n",
    "    male_to_female = {\n",
    "        'he': 'she', 'He': 'She', 'HE': 'SHE',\n",
    "        'him': 'her', 'Him': 'Her', 'HIM': 'HER',\n",
    "        'his': 'her', 'His': 'Her', 'HIS': 'HER',\n",
    "        'himself': 'herself', 'Himself': 'Herself', 'HIMSELF': 'HERSELF'\n",
    "    }\n",
    "    \n",
    "    female_to_male = {\n",
    "        'she': 'he', 'She': 'He', 'SHE': 'HE',\n",
    "        'herself': 'himself', 'Herself': 'Himself', 'HERSELF': 'HIMSELF'\n",
    "    }\n",
    "    \n",
    "    result = \"\"\n",
    "    \n",
    "    for i, token in enumerate(doc):\n",
    "        word = token.text\n",
    "        transformed = word\n",
    "        \n",
    "        if word in male_to_female:\n",
    "            transformed = male_to_female[word]\n",
    "        elif word in female_to_male:\n",
    "            transformed = female_to_male[word]\n",
    "        elif word.lower() in ['her', 'Her', 'HER']:\n",
    "            if token.tag_ == 'PRP$':\n",
    "                transformed = {'her': 'his', 'Her': 'His', 'HER': 'HIS'}[word]\n",
    "            else:\n",
    "                transformed = {'her': 'him', 'Her': 'Him', 'HER': 'HIM'}[word]\n",
    "        \n",
    "        result += transformed\n",
    "        \n",
    "        if i < len(doc) - 1:\n",
    "            result += token.whitespace_\n",
    "    \n",
    "    return result"
   ]
  },
  {
   "cell_type": "code",
   "execution_count": 6,
   "id": "3c658b85",
   "metadata": {},
   "outputs": [
    {
     "name": "stdout",
     "output_type": "stream",
     "text": [
      "               expected_output             predicted_output\n",
      "0  She is going to the market.  She is going to the market.\n",
      "1    Her book is on the table.    Her book is on the table.\n",
      "2         I saw her yesterday.         I saw her yesterday.\n",
      "3            She hurt herself.            She hurt herself.\n",
      "4     I called her last night.     I called her last night.\n",
      "\n",
      "Pronoun Transformation Accuracy: 100.00%\n"
     ]
    }
   ],
   "source": [
    "pronoun_testcases['predicted_output'] = pronoun_testcases['input_text'].apply(transform_pronouns)\n",
    "\n",
    "print(pronoun_testcases[['expected_output', 'predicted_output']].head())\n",
    "\n",
    "pronoun_accuracy = (pronoun_testcases['expected_output'] == pronoun_testcases['predicted_output']).mean() * 100\n",
    "print(f\"\\nPronoun Transformation Accuracy: {pronoun_accuracy:.2f}%\")"
   ]
  }
 ],
 "metadata": {
  "kernelspec": {
   "display_name": "Python 3",
   "language": "python",
   "name": "python3"
  },
  "language_info": {
   "codemirror_mode": {
    "name": "ipython",
    "version": 3
   },
   "file_extension": ".py",
   "mimetype": "text/x-python",
   "name": "python",
   "nbconvert_exporter": "python",
   "pygments_lexer": "ipython3",
   "version": "3.10.0"
  }
 },
 "nbformat": 4,
 "nbformat_minor": 5
}
