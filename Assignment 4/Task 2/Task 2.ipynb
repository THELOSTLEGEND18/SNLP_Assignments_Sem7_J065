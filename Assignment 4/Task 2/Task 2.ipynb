{
 "cells": [
  {
   "cell_type": "markdown",
   "id": "183fd0af",
   "metadata": {},
   "source": [
    "# Name Variation Matching using Fuzzy String Matching\n",
    "This notebook demonstrates how to match name variations to a set of base names using normalization and fuzzy string matching techniques. We will preprocess the data, apply fuzzy matching, and evaluate the results."
   ]
  },
  {
   "cell_type": "code",
   "execution_count": 3,
   "id": "dc00c393",
   "metadata": {},
   "outputs": [],
   "source": [
    "import pandas as pd\n",
    "from thefuzz import fuzz, process\n",
    "from sklearn.feature_extraction.text import TfidfVectorizer\n",
    "from sklearn.metrics.pairwise import cosine_similarity\n",
    "import re"
   ]
  },
  {
   "cell_type": "markdown",
   "id": "186791a8",
   "metadata": {},
   "source": [
    "## Import Required Libraries\n",
    "Import the necessary libraries for data manipulation, fuzzy string matching, text vectorization, and regular expressions."
   ]
  },
  {
   "cell_type": "code",
   "execution_count": 4,
   "id": "f895cb83",
   "metadata": {},
   "outputs": [],
   "source": [
    "name_variations = pd.read_csv(\"name_variations.csv\")\n",
    "base_names = pd.read_csv(\"base_names.csv\")"
   ]
  },
  {
   "cell_type": "markdown",
   "id": "69bb03e3",
   "metadata": {},
   "source": [
    "## Load Data\n",
    "Read the name variations and base names from their respective CSV files."
   ]
  },
  {
   "cell_type": "code",
   "execution_count": 5,
   "id": "616867c8",
   "metadata": {},
   "outputs": [
    {
     "data": {
      "text/plain": [
       "(    Base_Name_ID          Base_Name\n",
       " 0              1         John Smith\n",
       " 1              2     Jennifer Brown\n",
       " 2              3   Michael O'Connor\n",
       " 3              4       Maria Garcia\n",
       " 4              5         Robert Lee\n",
       " 5              6      Linda Johnson\n",
       " 6              7      William Davis\n",
       " 7              8   Elizabeth Wilson\n",
       " 8              9     David Martinez\n",
       " 9             10        Susan Clark\n",
       " 10            11    James Rodriguez\n",
       " 11            12         Mary Lewis\n",
       " 12            13         Paul Allen\n",
       " 13            14        Karen Young\n",
       " 14            15        Thomas King\n",
       " 15            16       Nancy Wright\n",
       " 16            17       Daniel Scott\n",
       " 17            18        Sandra Hill\n",
       " 18            19  Christopher Green\n",
       " 19            20      Jessica Adams,\n",
       "           Variation Matches_With_Base_Name\n",
       " 0      Thomas  King            Thomas King\n",
       " 1        ThomasKing            Thomas King\n",
       " 2      Maria Garcia           Maria Garcia\n",
       " 3         MaryLewis             Mary Lewis\n",
       " 4          Nancy W.           Nancy Wright\n",
       " ..              ...                    ...\n",
       " 95  Jennifer- Brown         Jennifer Brown\n",
       " 96    Daniel- Scott           Daniel Scott\n",
       " 97         David M.         David Martinez\n",
       " 98      Paul Allen.             Paul Allen\n",
       " 99      Paul  Allen             Paul Allen\n",
       " \n",
       " [100 rows x 2 columns])"
      ]
     },
     "execution_count": 5,
     "metadata": {},
     "output_type": "execute_result"
    }
   ],
   "source": [
    "base_names, name_variations"
   ]
  },
  {
   "cell_type": "markdown",
   "id": "49ae7e53",
   "metadata": {},
   "source": [
    "## Preview Data\n",
    "Display the loaded dataframes to understand their structure and contents."
   ]
  },
  {
   "cell_type": "code",
   "execution_count": 6,
   "id": "6f3b68b2",
   "metadata": {},
   "outputs": [],
   "source": [
    "def normalize_name(name: str) -> str:\n",
    "    if pd.isna(name):\n",
    "        return \"\"\n",
    "    name = name.strip()\n",
    "    name = re.sub(r'(?<=[a-z])(?=[A-Z])', ' ', name)\n",
    "    name = name.lower()\n",
    "    name = re.sub(r'[^a-z\\s]', '', name)\n",
    "    name = re.sub(r'\\s+', ' ', name).strip()\n",
    "    return name"
   ]
  },
  {
   "cell_type": "markdown",
   "id": "e4367bf7",
   "metadata": {},
   "source": [
    "## Define Name Normalization Function\n",
    "Create a function to normalize names by lowercasing, removing special characters, and standardizing whitespace."
   ]
  },
  {
   "cell_type": "code",
   "execution_count": 7,
   "id": "a66a78cb",
   "metadata": {},
   "outputs": [],
   "source": [
    "name_variations[\"Normalized\"] = name_variations[\"Variation\"].astype(str).apply(normalize_name)\n",
    "base_names[\"Normalized\"] = base_names[\"Base_Name\"].astype(str).apply(normalize_name)"
   ]
  },
  {
   "cell_type": "markdown",
   "id": "2229f7eb",
   "metadata": {},
   "source": [
    "## Normalize Names\n",
    "Apply the normalization function to both name variations and base names."
   ]
  },
  {
   "cell_type": "code",
   "execution_count": 8,
   "id": "211c4969",
   "metadata": {},
   "outputs": [],
   "source": [
    "def get_best_match(name, base_names, threshold=80):\n",
    "    match = process.extractOne(\n",
    "        name,\n",
    "        base_names[\"Normalized\"].tolist(),\n",
    "        scorer=fuzz.token_sort_ratio\n",
    "    )\n",
    "    if match and match[1] >= threshold:\n",
    "        # Get the original base name for reporting\n",
    "        matched_row = base_names.loc[base_names[\"Normalized\"] == match[0], \"Base_Name\"].values[0]\n",
    "        return matched_row, match[1]\n",
    "    return None, None"
   ]
  },
  {
   "cell_type": "markdown",
   "id": "5fa682af",
   "metadata": {},
   "source": [
    "## Define Fuzzy Matching Function\n",
    "Create a function to find the best fuzzy match for a normalized name from the list of base names using token sort ratio."
   ]
  },
  {
   "cell_type": "code",
   "execution_count": 9,
   "id": "ef7e1be8",
   "metadata": {},
   "outputs": [],
   "source": [
    "results = []\n",
    "for name, norm in zip(name_variations[\"Variation\"], name_variations[\"Normalized\"]):\n",
    "    matched_name, score = get_best_match(norm, base_names)\n",
    "    results.append((name, matched_name, score))\n"
   ]
  },
  {
   "cell_type": "markdown",
   "id": "52732826",
   "metadata": {},
   "source": [
    "## Apply Fuzzy Matching\n",
    "For each name variation, find the best matching base name using the defined fuzzy matching function."
   ]
  },
  {
   "cell_type": "code",
   "execution_count": 10,
   "id": "7a3ae396",
   "metadata": {},
   "outputs": [
    {
     "data": {
      "text/html": [
       "<div>\n",
       "<style scoped>\n",
       "    .dataframe tbody tr th:only-of-type {\n",
       "        vertical-align: middle;\n",
       "    }\n",
       "\n",
       "    .dataframe tbody tr th {\n",
       "        vertical-align: top;\n",
       "    }\n",
       "\n",
       "    .dataframe thead th {\n",
       "        text-align: right;\n",
       "    }\n",
       "</style>\n",
       "<table border=\"1\" class=\"dataframe\">\n",
       "  <thead>\n",
       "    <tr style=\"text-align: right;\">\n",
       "      <th></th>\n",
       "      <th>Variation_Name</th>\n",
       "      <th>Matched_Base_Name</th>\n",
       "      <th>Score</th>\n",
       "    </tr>\n",
       "  </thead>\n",
       "  <tbody>\n",
       "    <tr>\n",
       "      <th>0</th>\n",
       "      <td>Thomas  King</td>\n",
       "      <td>Thomas King</td>\n",
       "      <td>100.0</td>\n",
       "    </tr>\n",
       "    <tr>\n",
       "      <th>1</th>\n",
       "      <td>ThomasKing</td>\n",
       "      <td>Thomas King</td>\n",
       "      <td>100.0</td>\n",
       "    </tr>\n",
       "    <tr>\n",
       "      <th>2</th>\n",
       "      <td>Maria Garcia</td>\n",
       "      <td>Maria Garcia</td>\n",
       "      <td>100.0</td>\n",
       "    </tr>\n",
       "    <tr>\n",
       "      <th>3</th>\n",
       "      <td>MaryLewis</td>\n",
       "      <td>Mary Lewis</td>\n",
       "      <td>100.0</td>\n",
       "    </tr>\n",
       "    <tr>\n",
       "      <th>4</th>\n",
       "      <td>Nancy W.</td>\n",
       "      <td>None</td>\n",
       "      <td>NaN</td>\n",
       "    </tr>\n",
       "    <tr>\n",
       "      <th>5</th>\n",
       "      <td>Dani3l Scott</td>\n",
       "      <td>Daniel Scott</td>\n",
       "      <td>96.0</td>\n",
       "    </tr>\n",
       "    <tr>\n",
       "      <th>6</th>\n",
       "      <td>JOHN  smith</td>\n",
       "      <td>John Smith</td>\n",
       "      <td>100.0</td>\n",
       "    </tr>\n",
       "    <tr>\n",
       "      <th>7</th>\n",
       "      <td>linda johnson</td>\n",
       "      <td>Linda Johnson</td>\n",
       "      <td>100.0</td>\n",
       "    </tr>\n",
       "    <tr>\n",
       "      <th>8</th>\n",
       "      <td>N@ncy Wright</td>\n",
       "      <td>Nancy Wright</td>\n",
       "      <td>96.0</td>\n",
       "    </tr>\n",
       "    <tr>\n",
       "      <th>9</th>\n",
       "      <td>William Davis</td>\n",
       "      <td>William Davis</td>\n",
       "      <td>100.0</td>\n",
       "    </tr>\n",
       "    <tr>\n",
       "      <th>10</th>\n",
       "      <td>Susan  Clark</td>\n",
       "      <td>Susan Clark</td>\n",
       "      <td>100.0</td>\n",
       "    </tr>\n",
       "    <tr>\n",
       "      <th>11</th>\n",
       "      <td>SusanClark</td>\n",
       "      <td>Susan Clark</td>\n",
       "      <td>100.0</td>\n",
       "    </tr>\n",
       "    <tr>\n",
       "      <th>12</th>\n",
       "      <td>Jennifer- Brown</td>\n",
       "      <td>Jennifer Brown</td>\n",
       "      <td>100.0</td>\n",
       "    </tr>\n",
       "    <tr>\n",
       "      <th>13</th>\n",
       "      <td>Michael O'Connor</td>\n",
       "      <td>Michael O'Connor</td>\n",
       "      <td>100.0</td>\n",
       "    </tr>\n",
       "    <tr>\n",
       "      <th>14</th>\n",
       "      <td>Rodriguez James</td>\n",
       "      <td>James Rodriguez</td>\n",
       "      <td>100.0</td>\n",
       "    </tr>\n",
       "  </tbody>\n",
       "</table>\n",
       "</div>"
      ],
      "text/plain": [
       "      Variation_Name Matched_Base_Name  Score\n",
       "0       Thomas  King       Thomas King  100.0\n",
       "1         ThomasKing       Thomas King  100.0\n",
       "2       Maria Garcia      Maria Garcia  100.0\n",
       "3          MaryLewis        Mary Lewis  100.0\n",
       "4           Nancy W.              None    NaN\n",
       "5       Dani3l Scott      Daniel Scott   96.0\n",
       "6        JOHN  smith        John Smith  100.0\n",
       "7      linda johnson     Linda Johnson  100.0\n",
       "8       N@ncy Wright      Nancy Wright   96.0\n",
       "9      William Davis     William Davis  100.0\n",
       "10      Susan  Clark       Susan Clark  100.0\n",
       "11        SusanClark       Susan Clark  100.0\n",
       "12   Jennifer- Brown    Jennifer Brown  100.0\n",
       "13  Michael O'Connor  Michael O'Connor  100.0\n",
       "14   Rodriguez James   James Rodriguez  100.0"
      ]
     },
     "execution_count": 10,
     "metadata": {},
     "output_type": "execute_result"
    }
   ],
   "source": [
    "matches_df = pd.DataFrame(results, columns=[\"Variation_Name\", \"Matched_Base_Name\", \"Score\"])\n",
    "matches_df.head(15)"
   ]
  },
  {
   "cell_type": "markdown",
   "id": "f0d7a312",
   "metadata": {},
   "source": [
    "## Display Matching Results\n",
    "Create a DataFrame to show the original variation, matched base name, and the matching score. Display the top results."
   ]
  },
  {
   "cell_type": "code",
   "execution_count": 11,
   "id": "20bb7c42",
   "metadata": {},
   "outputs": [
    {
     "data": {
      "text/plain": [
       "0.95"
      ]
     },
     "execution_count": 11,
     "metadata": {},
     "output_type": "execute_result"
    }
   ],
   "source": [
    "from sklearn.metrics import accuracy_score\n",
    "\n",
    "y_true = name_variations['Matches_With_Base_Name'].fillna(\"No Match\")\n",
    "y_pred = matches_df['Matched_Base_Name'].fillna(\"No Match\")\n",
    "\n",
    "accuracy_score(y_true, y_pred)"
   ]
  },
  {
   "cell_type": "markdown",
   "id": "92f9b3f4",
   "metadata": {},
   "source": [
    "## Evaluate Matching Accuracy\n",
    "Compare the predicted matches with the ground truth and calculate the accuracy score."
   ]
  },
  {
   "cell_type": "markdown",
   "id": "12e72385",
   "metadata": {},
   "source": [
    "## Conclusion\n",
    "In this notebook, we demonstrated how to match name variations to base names using normalization and fuzzy string matching. By preprocessing the data and applying token sort ratio, we achieved effective matching and evaluated the results using accuracy. This approach can be further improved by experimenting with different normalization strategies or matching algorithms."
   ]
  }
 ],
 "metadata": {
  "kernelspec": {
   "display_name": "Python 3",
   "language": "python",
   "name": "python3"
  },
  "language_info": {
   "codemirror_mode": {
    "name": "ipython",
    "version": 3
   },
   "file_extension": ".py",
   "mimetype": "text/x-python",
   "name": "python",
   "nbconvert_exporter": "python",
   "pygments_lexer": "ipython3",
   "version": "3.10.0"
  }
 },
 "nbformat": 4,
 "nbformat_minor": 5
}
