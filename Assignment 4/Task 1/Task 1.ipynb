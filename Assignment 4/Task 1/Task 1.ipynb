{
 "cells": [
  {
   "cell_type": "markdown",
   "id": "53352c95",
   "metadata": {},
   "source": [
    "# Query Resolution using Fuzzy Matching and TF-IDF\n",
    "\n",
    "This notebook demonstrates how to resolve new queries to a set of resolved queries using two main techniques:\n",
    "\n",
    "- **Fuzzy String Matching** (using thefuzz library)\n",
    "- **TF-IDF Vectorization with Cosine Similarity**\n",
    "\n",
    "We will preprocess the data, apply both methods, and then combine the results to select the best match for each query."
   ]
  },
  {
   "cell_type": "code",
   "execution_count": 1,
   "id": "94b61630",
   "metadata": {},
   "outputs": [],
   "source": [
    "import pandas as pd\n",
    "from thefuzz import fuzz, process\n",
    "from sklearn.feature_extraction.text import TfidfVectorizer\n",
    "from sklearn.metrics.pairwise import cosine_similarity"
   ]
  },
  {
   "cell_type": "markdown",
   "id": "6cde131a",
   "metadata": {},
   "source": [
    "## Import Required Libraries\n",
    "We begin by importing the necessary libraries for data manipulation, fuzzy string matching, and text vectorization."
   ]
  },
  {
   "cell_type": "code",
   "execution_count": 2,
   "id": "72b9e2f0",
   "metadata": {},
   "outputs": [],
   "source": [
    "new_queries = pd.read_csv(\"new_queries.csv\")\n",
    "resolved_queries = pd.read_csv(\"resolved_queries.csv\")"
   ]
  },
  {
   "cell_type": "markdown",
   "id": "d0e3f4cc",
   "metadata": {},
   "source": [
    "## Load Data\n",
    "Read the new queries and resolved queries from their respective CSV files."
   ]
  },
  {
   "cell_type": "code",
   "execution_count": 3,
   "id": "09d79237",
   "metadata": {},
   "outputs": [
    {
     "data": {
      "text/plain": [
       "(                              Variation_Query  Matches_With_Query_ID\n",
       " 0            Unabel to conect to the internet                      1\n",
       " 1                   Can’t connect to internet                      1\n",
       " 2                         Intenet not working                      1\n",
       " 3                Payment failed while chekout                      2\n",
       " 4   Payment did not go through during chckout                      2\n",
       " 5                  Payment issue at check out                      2\n",
       " 6    Application crashes when opening setings                      3\n",
       " 7            App crash when going to settings                      3\n",
       " 8            Settings cause the app to chrash                      3\n",
       " 9               Forgot passwrd and cant reset                      4\n",
       " 10        Forgotten password, unable to reset                      4\n",
       " 11                  I can’t reset my password                      4\n",
       " 12             Unable to uplod file to server                      5\n",
       " 13        Can't upload files on to the server                      5\n",
       " 14       File uploading to server not working                      5\n",
       " 15        No internet connection, please help                      1\n",
       " 16          Checkout page says payment failed                      2\n",
       " 17      Settings page crashes app immediately                      3\n",
       " 18            Password reset link not working                      4\n",
       " 19  Server upload fails with an error message                      5,\n",
       "    Query_ID                    Pre_Resolved_Query\n",
       " 0         1     Unable to connect to the internet\n",
       " 1         2        Payment failed during checkout\n",
       " 2         3     App crashes when opening settings\n",
       " 3         4   Forgot password and unable to reset\n",
       " 4         5  Unable to upload files to the server)"
      ]
     },
     "execution_count": 3,
     "metadata": {},
     "output_type": "execute_result"
    }
   ],
   "source": [
    "new_queries, resolved_queries"
   ]
  },
  {
   "cell_type": "markdown",
   "id": "eca811b9",
   "metadata": {},
   "source": [
    "## Preview Data\n",
    "Display the loaded dataframes to understand their structure and contents."
   ]
  },
  {
   "cell_type": "code",
   "execution_count": 4,
   "id": "59bb381d",
   "metadata": {},
   "outputs": [],
   "source": [
    "new_queries[\"Variation_Query\"] = new_queries[\"Variation_Query\"].str.lower().str.strip()\n",
    "resolved_queries[\"Pre_Resolved_Query\"] = resolved_queries[\"Pre_Resolved_Query\"].str.lower().str.strip()"
   ]
  },
  {
   "cell_type": "markdown",
   "id": "a27ee88c",
   "metadata": {},
   "source": [
    "## Preprocess Queries\n",
    "Convert queries to lowercase and strip whitespace to ensure consistent matching."
   ]
  },
  {
   "cell_type": "code",
   "execution_count": 5,
   "id": "e3236bf3",
   "metadata": {},
   "outputs": [],
   "source": [
    "def get_all_fuzzy_scores(query, df, threshold=70):\n",
    "    choices = df[\"Pre_Resolved_Query\"].tolist()\n",
    "    scores = {\n",
    "        \"ratio\": process.extractOne(query, choices, scorer=fuzz.ratio),\n",
    "        \"partial_ratio\": process.extractOne(query, choices, scorer=fuzz.partial_ratio),\n",
    "        \"token_sort_ratio\": process.extractOne(query, choices, scorer=fuzz.token_sort_ratio),\n",
    "        \"token_set_ratio\": process.extractOne(query, choices, scorer=fuzz.token_set_ratio),\n",
    "    }\n",
    "    best_method, best_result = max(scores.items(), key=lambda x: x[1][1])\n",
    "    if best_result and best_result[1] >= threshold:\n",
    "        # Find the Query_ID for the matched text\n",
    "        qid = df.loc[df[\"Pre_Resolved_Query\"] == best_result[0], \"Query_ID\"].values[0]\n",
    "        return best_method, best_result[0], qid, best_result[1]\n",
    "    return None, None, None, None\n",
    "\n",
    "fuzzy_results = []\n",
    "for uq in new_queries[\"Variation_Query\"]:\n",
    "    method, match, qid, score = get_all_fuzzy_scores(uq, resolved_queries)\n",
    "    fuzzy_results.append((uq, method, match, qid, score))\n",
    "\n",
    "fuzzy_df = pd.DataFrame(fuzzy_results, columns=[\n",
    "    \"Unresolved_Query\", \"Best_Method\", \"Fuzzy_Match\", \"Fuzzy_Query_ID\", \"Fuzzy_Score\"\n",
    "])"
   ]
  },
  {
   "cell_type": "markdown",
   "id": "e5aacdf9",
   "metadata": {},
   "source": [
    "## Fuzzy String Matching\n",
    "Apply various fuzzy string matching methods to find the closest resolved query for each new query."
   ]
  },
  {
   "cell_type": "code",
   "execution_count": 6,
   "id": "d7344ceb",
   "metadata": {},
   "outputs": [],
   "source": [
    "vectorizer = TfidfVectorizer(stop_words=\"english\")\n",
    "tfidf_matrix = vectorizer.fit_transform(\n",
    "    new_queries[\"Variation_Query\"].tolist() + resolved_queries[\"Pre_Resolved_Query\"].tolist()\n",
    ")\n",
    "\n",
    "n_unresolved = len(new_queries)\n",
    "unresolved_vecs = tfidf_matrix[:n_unresolved]\n",
    "resolved_vecs = tfidf_matrix[n_unresolved:]\n",
    "\n",
    "cosine_sim = cosine_similarity(unresolved_vecs, resolved_vecs)\n",
    "\n",
    "tfidf_results = []\n",
    "for i, uq in enumerate(new_queries[\"Variation_Query\"]):\n",
    "    best_idx = cosine_sim[i].argmax()\n",
    "    best_score = cosine_sim[i][best_idx]\n",
    "    matched_row = resolved_queries.iloc[best_idx]\n",
    "    tfidf_results.append((uq, matched_row[\"Pre_Resolved_Query\"], matched_row[\"Query_ID\"], best_score))\n",
    "\n",
    "tfidf_df = pd.DataFrame(tfidf_results, columns=[\n",
    "    \"Unresolved_Query\", \"TFIDF_Match\", \"TFIDF_Query_ID\", \"TFIDF_Score\"\n",
    "])"
   ]
  },
  {
   "cell_type": "markdown",
   "id": "6558b785",
   "metadata": {},
   "source": [
    "## TF-IDF Vectorization\n",
    "Use TF-IDF to vectorize the queries and compute cosine similarity to find the best matches."
   ]
  },
  {
   "cell_type": "code",
   "execution_count": 7,
   "id": "5008e696",
   "metadata": {},
   "outputs": [],
   "source": [
    "combined = pd.merge(fuzzy_df, tfidf_df, on=\"Unresolved_Query\", how=\"inner\")"
   ]
  },
  {
   "cell_type": "markdown",
   "id": "ef841b10",
   "metadata": {},
   "source": [
    "## Combine Fuzzy and TF-IDF Results\n",
    "Merge the results from both methods to prepare for final selection of the best match."
   ]
  },
  {
   "cell_type": "code",
   "execution_count": 11,
   "id": "5b2516fb",
   "metadata": {},
   "outputs": [],
   "source": [
    "def pick_final(row, fuzzy_thresh=75, tfidf_thresh=0.65):\n",
    "    if row[\"Fuzzy_Score\"] and row[\"Fuzzy_Score\"] >= fuzzy_thresh:\n",
    "        return row[\"Fuzzy_Match\"], row[\"Fuzzy_Query_ID\"], f\"Fuzzy-{row['Best_Method']}\"\n",
    "    elif row[\"TFIDF_Score\"] >= tfidf_thresh:\n",
    "        return row[\"TFIDF_Match\"], row[\"TFIDF_Query_ID\"], \"TFIDF\"\n",
    "    else:\n",
    "        return None, None, \"No Match\"\n",
    "\n",
    "combined[[\"Final_Match\", \"Final_Query_ID\", \"Used_Method\"]] = combined.apply(\n",
    "    pick_final, axis=1, result_type=\"expand\"\n",
    ")"
   ]
  },
  {
   "cell_type": "markdown",
   "id": "9f39c5a0",
   "metadata": {},
   "source": [
    "## Select Final Match\n",
    "Apply thresholds to select the best match for each query, preferring fuzzy matches if above threshold, otherwise using TF-IDF if above its threshold."
   ]
  },
  {
   "cell_type": "code",
   "execution_count": 12,
   "id": "6833d1aa",
   "metadata": {},
   "outputs": [
    {
     "data": {
      "text/html": [
       "<div>\n",
       "<style scoped>\n",
       "    .dataframe tbody tr th:only-of-type {\n",
       "        vertical-align: middle;\n",
       "    }\n",
       "\n",
       "    .dataframe tbody tr th {\n",
       "        vertical-align: top;\n",
       "    }\n",
       "\n",
       "    .dataframe thead th {\n",
       "        text-align: right;\n",
       "    }\n",
       "</style>\n",
       "<table border=\"1\" class=\"dataframe\">\n",
       "  <thead>\n",
       "    <tr style=\"text-align: right;\">\n",
       "      <th></th>\n",
       "      <th>Unresolved_Query</th>\n",
       "      <th>Fuzzy_Match</th>\n",
       "      <th>Used_Method</th>\n",
       "    </tr>\n",
       "  </thead>\n",
       "  <tbody>\n",
       "    <tr>\n",
       "      <th>0</th>\n",
       "      <td>unabel to conect to the internet</td>\n",
       "      <td>unable to connect to the internet</td>\n",
       "      <td>Fuzzy-ratio</td>\n",
       "    </tr>\n",
       "    <tr>\n",
       "      <th>1</th>\n",
       "      <td>can’t connect to internet</td>\n",
       "      <td>unable to connect to the internet</td>\n",
       "      <td>Fuzzy-token_set_ratio</td>\n",
       "    </tr>\n",
       "    <tr>\n",
       "      <th>2</th>\n",
       "      <td>intenet not working</td>\n",
       "      <td>None</td>\n",
       "      <td>No Match</td>\n",
       "    </tr>\n",
       "    <tr>\n",
       "      <th>3</th>\n",
       "      <td>payment failed while chekout</td>\n",
       "      <td>payment failed during checkout</td>\n",
       "      <td>Fuzzy-ratio</td>\n",
       "    </tr>\n",
       "    <tr>\n",
       "      <th>4</th>\n",
       "      <td>payment did not go through during chckout</td>\n",
       "      <td>payment failed during checkout</td>\n",
       "      <td>No Match</td>\n",
       "    </tr>\n",
       "    <tr>\n",
       "      <th>5</th>\n",
       "      <td>payment issue at check out</td>\n",
       "      <td>payment failed during checkout</td>\n",
       "      <td>No Match</td>\n",
       "    </tr>\n",
       "    <tr>\n",
       "      <th>6</th>\n",
       "      <td>application crashes when opening setings</td>\n",
       "      <td>app crashes when opening settings</td>\n",
       "      <td>Fuzzy-partial_ratio</td>\n",
       "    </tr>\n",
       "    <tr>\n",
       "      <th>7</th>\n",
       "      <td>app crash when going to settings</td>\n",
       "      <td>app crashes when opening settings</td>\n",
       "      <td>Fuzzy-ratio</td>\n",
       "    </tr>\n",
       "    <tr>\n",
       "      <th>8</th>\n",
       "      <td>settings cause the app to chrash</td>\n",
       "      <td>None</td>\n",
       "      <td>No Match</td>\n",
       "    </tr>\n",
       "    <tr>\n",
       "      <th>9</th>\n",
       "      <td>forgot passwrd and cant reset</td>\n",
       "      <td>forgot password and unable to reset</td>\n",
       "      <td>Fuzzy-ratio</td>\n",
       "    </tr>\n",
       "    <tr>\n",
       "      <th>10</th>\n",
       "      <td>forgotten password, unable to reset</td>\n",
       "      <td>forgot password and unable to reset</td>\n",
       "      <td>Fuzzy-ratio</td>\n",
       "    </tr>\n",
       "    <tr>\n",
       "      <th>11</th>\n",
       "      <td>i can’t reset my password</td>\n",
       "      <td>forgot password and unable to reset</td>\n",
       "      <td>TFIDF</td>\n",
       "    </tr>\n",
       "    <tr>\n",
       "      <th>12</th>\n",
       "      <td>unable to uplod file to server</td>\n",
       "      <td>unable to upload files to the server</td>\n",
       "      <td>Fuzzy-ratio</td>\n",
       "    </tr>\n",
       "    <tr>\n",
       "      <th>13</th>\n",
       "      <td>can't upload files on to the server</td>\n",
       "      <td>unable to upload files to the server</td>\n",
       "      <td>Fuzzy-partial_ratio</td>\n",
       "    </tr>\n",
       "    <tr>\n",
       "      <th>14</th>\n",
       "      <td>file uploading to server not working</td>\n",
       "      <td>None</td>\n",
       "      <td>No Match</td>\n",
       "    </tr>\n",
       "    <tr>\n",
       "      <th>15</th>\n",
       "      <td>no internet connection, please help</td>\n",
       "      <td>unable to connect to the internet</td>\n",
       "      <td>Fuzzy-token_set_ratio</td>\n",
       "    </tr>\n",
       "    <tr>\n",
       "      <th>16</th>\n",
       "      <td>checkout page says payment failed</td>\n",
       "      <td>payment failed during checkout</td>\n",
       "      <td>Fuzzy-token_set_ratio</td>\n",
       "    </tr>\n",
       "    <tr>\n",
       "      <th>17</th>\n",
       "      <td>settings page crashes app immediately</td>\n",
       "      <td>app crashes when opening settings</td>\n",
       "      <td>Fuzzy-token_set_ratio</td>\n",
       "    </tr>\n",
       "    <tr>\n",
       "      <th>18</th>\n",
       "      <td>password reset link not working</td>\n",
       "      <td>None</td>\n",
       "      <td>No Match</td>\n",
       "    </tr>\n",
       "    <tr>\n",
       "      <th>19</th>\n",
       "      <td>server upload fails with an error message</td>\n",
       "      <td>None</td>\n",
       "      <td>No Match</td>\n",
       "    </tr>\n",
       "  </tbody>\n",
       "</table>\n",
       "</div>"
      ],
      "text/plain": [
       "                             Unresolved_Query  \\\n",
       "0            unabel to conect to the internet   \n",
       "1                   can’t connect to internet   \n",
       "2                         intenet not working   \n",
       "3                payment failed while chekout   \n",
       "4   payment did not go through during chckout   \n",
       "5                  payment issue at check out   \n",
       "6    application crashes when opening setings   \n",
       "7            app crash when going to settings   \n",
       "8            settings cause the app to chrash   \n",
       "9               forgot passwrd and cant reset   \n",
       "10        forgotten password, unable to reset   \n",
       "11                  i can’t reset my password   \n",
       "12             unable to uplod file to server   \n",
       "13        can't upload files on to the server   \n",
       "14       file uploading to server not working   \n",
       "15        no internet connection, please help   \n",
       "16          checkout page says payment failed   \n",
       "17      settings page crashes app immediately   \n",
       "18            password reset link not working   \n",
       "19  server upload fails with an error message   \n",
       "\n",
       "                             Fuzzy_Match            Used_Method  \n",
       "0      unable to connect to the internet            Fuzzy-ratio  \n",
       "1      unable to connect to the internet  Fuzzy-token_set_ratio  \n",
       "2                                   None               No Match  \n",
       "3         payment failed during checkout            Fuzzy-ratio  \n",
       "4         payment failed during checkout               No Match  \n",
       "5         payment failed during checkout               No Match  \n",
       "6      app crashes when opening settings    Fuzzy-partial_ratio  \n",
       "7      app crashes when opening settings            Fuzzy-ratio  \n",
       "8                                   None               No Match  \n",
       "9    forgot password and unable to reset            Fuzzy-ratio  \n",
       "10   forgot password and unable to reset            Fuzzy-ratio  \n",
       "11   forgot password and unable to reset                  TFIDF  \n",
       "12  unable to upload files to the server            Fuzzy-ratio  \n",
       "13  unable to upload files to the server    Fuzzy-partial_ratio  \n",
       "14                                  None               No Match  \n",
       "15     unable to connect to the internet  Fuzzy-token_set_ratio  \n",
       "16        payment failed during checkout  Fuzzy-token_set_ratio  \n",
       "17     app crashes when opening settings  Fuzzy-token_set_ratio  \n",
       "18                                  None               No Match  \n",
       "19                                  None               No Match  "
      ]
     },
     "execution_count": 12,
     "metadata": {},
     "output_type": "execute_result"
    }
   ],
   "source": [
    "combined[['Unresolved_Query', 'Fuzzy_Match', 'Used_Method']]"
   ]
  },
  {
   "cell_type": "markdown",
   "id": "1b45de8f",
   "metadata": {},
   "source": [
    "## Display Final Results\n",
    "Show the unresolved queries, their best fuzzy match, and the method used for resolution."
   ]
  },
  {
   "cell_type": "markdown",
   "id": "36d3f38a",
   "metadata": {},
   "source": [
    "## Conclusion\n",
    "In this notebook, we explored two approaches—fuzzy string matching and TF-IDF vectorization with cosine similarity—to resolve new queries against a set of resolved queries. By combining the strengths of both methods, we improved the accuracy of query resolution. This approach can be further enhanced by tuning thresholds or incorporating more advanced NLP techniques for even better results."
   ]
  }
 ],
 "metadata": {
  "kernelspec": {
   "display_name": "Python 3",
   "language": "python",
   "name": "python3"
  },
  "language_info": {
   "codemirror_mode": {
    "name": "ipython",
    "version": 3
   },
   "file_extension": ".py",
   "mimetype": "text/x-python",
   "name": "python",
   "nbconvert_exporter": "python",
   "pygments_lexer": "ipython3",
   "version": "3.10.0"
  }
 },
 "nbformat": 4,
 "nbformat_minor": 5
}
