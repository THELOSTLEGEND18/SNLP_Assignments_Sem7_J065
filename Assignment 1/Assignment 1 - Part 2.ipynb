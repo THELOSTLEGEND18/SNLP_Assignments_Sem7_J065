{
 "cells": [
  {
   "cell_type": "code",
   "execution_count": 1,
   "metadata": {
    "_cell_guid": "b1076dfc-b9ad-4769-8c92-a6c4dae69d19",
    "_uuid": "8f2839f25d086af736a60e9eeb907d3b93b6e0e5",
    "execution": {
     "iopub.execute_input": "2025-08-03T08:01:58.522371Z",
     "iopub.status.busy": "2025-08-03T08:01:58.522120Z",
     "iopub.status.idle": "2025-08-03T08:02:56.945060Z",
     "shell.execute_reply": "2025-08-03T08:02:56.944015Z",
     "shell.execute_reply.started": "2025-08-03T08:01:58.522338Z"
    },
    "trusted": true
   },
   "outputs": [
    {
     "name": "stderr",
     "output_type": "stream",
     "text": [
      "[nltk_data] Downloading package punkt to\n",
      "[nltk_data]     C:\\Users\\acer\\AppData\\Roaming\\nltk_data...\n",
      "[nltk_data]   Package punkt is already up-to-date!\n",
      "[nltk_data] Downloading package stopwords to\n",
      "[nltk_data]     C:\\Users\\acer\\AppData\\Roaming\\nltk_data...\n",
      "[nltk_data]   Package stopwords is already up-to-date!\n"
     ]
    }
   ],
   "source": [
    "# Imports\n",
    "import pandas as pd\n",
    "import numpy as np\n",
    "import matplotlib.pyplot as plt\n",
    "import seaborn as sns\n",
    "import re\n",
    "from nltk.corpus import stopwords\n",
    "from nltk.tokenize import word_tokenize\n",
    "import nltk\n",
    "from tqdm import tqdm\n",
    "from gensim.models import Word2Vec, FastText\n",
    "import gensim.downloader as api\n",
    "from sklearn.linear_model import LogisticRegression\n",
    "from sklearn.model_selection import train_test_split\n",
    "from sklearn.metrics import accuracy_score, classification_report\n",
    "\n",
    "# 🛠 Downloads\n",
    "nltk.download('punkt')\n",
    "nltk.download('stopwords')\n",
    "tqdm.pandas()\n",
    "\n",
    "# Load Dataset\n",
    "df = pd.read_csv(r'C:\\Users\\acer\\Desktop\\SNLP\\SNLP_Assignments_Sem7_J065\\Assignment 1\\IMDB Dataset.csv')"
   ]
  },
  {
   "cell_type": "code",
   "execution_count": 2,
   "metadata": {
    "execution": {
     "iopub.execute_input": "2025-08-03T08:03:26.438872Z",
     "iopub.status.busy": "2025-08-03T08:03:26.438516Z",
     "iopub.status.idle": "2025-08-03T08:03:26.726882Z",
     "shell.execute_reply": "2025-08-03T08:03:26.725813Z",
     "shell.execute_reply.started": "2025-08-03T08:03:26.438845Z"
    },
    "trusted": true
   },
   "outputs": [
    {
     "name": "stdout",
     "output_type": "stream",
     "text": [
      "Sample Data:\n",
      "                                              review sentiment\n",
      "0  One of the other reviewers has mentioned that ...  positive\n",
      "1  A wonderful little production. <br /><br />The...  positive\n",
      "2  I thought this was a wonderful way to spend ti...  positive\n",
      "3  Basically there's a family where a little boy ...  negative\n",
      "4  Petter Mattei's \"Love in the Time of Money\" is...  positive\n",
      "\n",
      "Class Distribution:\n",
      "sentiment\n",
      "positive    25000\n",
      "negative    25000\n",
      "Name: count, dtype: int64\n"
     ]
    },
    {
     "data": {
      "image/png": "[encoded data removed]",
      "text/plain": [
       "<Figure size 640x480 with 1 Axes>"
      ]
     },
     "metadata": {},
     "output_type": "display_data"
    }
   ],
   "source": [
    "#  Basic Info\n",
    "print(\"Sample Data:\")\n",
    "print(df.head())\n",
    "\n",
    "#  Class Balance\n",
    "print(\"\\nClass Distribution:\")\n",
    "print(df['sentiment'].value_counts())\n",
    "\n",
    "#  Plot Distribution\n",
    "sns.countplot(data=df, x='sentiment')\n",
    "plt.title(\"Sentiment Class Balance\")\n",
    "plt.show()"
   ]
  },
  {
   "cell_type": "code",
   "execution_count": 3,
   "metadata": {
    "execution": {
     "iopub.execute_input": "2025-08-03T08:03:52.667748Z",
     "iopub.status.busy": "2025-08-03T08:03:52.667437Z",
     "iopub.status.idle": "2025-08-03T08:04:35.501347Z",
     "shell.execute_reply": "2025-08-03T08:04:35.500435Z",
     "shell.execute_reply.started": "2025-08-03T08:03:52.667727Z"
    },
    "trusted": true
   },
   "outputs": [
    {
     "name": "stderr",
     "output_type": "stream",
     "text": [
      "100%|██████████| 50000/50000 [00:32<00:00, 1552.15it/s]\n"
     ]
    }
   ],
   "source": [
    "# Clean Text Function\n",
    "stop_words = set(stopwords.words('english'))\n",
    "\n",
    "def clean_text(text):\n",
    "    text = re.sub(r'<.*?>', ' ', text)  # Remove HTML\n",
    "    text = re.sub(r'[^a-zA-Z]', ' ', text)  # Remove non-letters\n",
    "    tokens = word_tokenize(text.lower())  # Tokenize + Lower\n",
    "    tokens = [t for t in tokens if t not in stop_words and len(t) > 2]\n",
    "    return tokens\n",
    "\n",
    "#  Apply Cleaning\n",
    "df['tokens'] = df['review'].progress_apply(clean_text)\n",
    "df['label'] = df['sentiment'].map({'positive': 1, 'negative': 0})"
   ]
  },
  {
   "cell_type": "code",
   "execution_count": 4,
   "metadata": {
    "execution": {
     "iopub.execute_input": "2025-08-03T08:04:48.810451Z",
     "iopub.status.busy": "2025-08-03T08:04:48.809538Z",
     "iopub.status.idle": "2025-08-03T08:04:48.816854Z",
     "shell.execute_reply": "2025-08-03T08:04:48.815836Z",
     "shell.execute_reply.started": "2025-08-03T08:04:48.810417Z"
    },
    "trusted": true
   },
   "outputs": [],
   "source": [
    "# Convert list of tokens to average vector\n",
    "def get_avg_vector(tokens, model, dim):\n",
    "    vec = np.zeros(dim)\n",
    "    count = 0\n",
    "    for token in tokens:\n",
    "        if token in model:\n",
    "            vec += model[token]\n",
    "            count += 1\n",
    "    return vec / count if count != 0 else vec\n",
    "\n",
    "# Classifier trainer\n",
    "def train_model(X, y, label=\"\"):\n",
    "    X_train, X_test, y_train, y_test = train_test_split(X, y, test_size=0.2, random_state=42)\n",
    "    clf = LogisticRegression(max_iter=1000)\n",
    "    clf.fit(X_train, y_train)\n",
    "    y_pred = clf.predict(X_test)\n",
    "    acc = accuracy_score(y_test, y_pred)\n",
    "    print(f\"\\n📊 {label} Accuracy: {acc:.4f}\")\n",
    "    print(classification_report(y_test, y_pred))\n",
    "    return acc"
   ]
  },
  {
   "cell_type": "code",
   "execution_count": 5,
   "metadata": {
    "trusted": true
   },
   "outputs": [
    {
     "name": "stdout",
     "output_type": "stream",
     "text": [
      "\n",
      "🔁 Loading Pretrained Word2Vec (Google News)...\n",
      "[==================================================] 100.0% 1662.8/1662.8MB downloaded\n"
     ]
    },
    {
     "name": "stderr",
     "output_type": "stream",
     "text": [
      "100%|██████████| 50000/50000 [00:17<00:00, 2917.38it/s]\n"
     ]
    },
    {
     "name": "stdout",
     "output_type": "stream",
     "text": [
      "\n",
      "📊 Pretrained Word2Vec Accuracy: 0.8491\n",
      "              precision    recall  f1-score   support\n",
      "\n",
      "           0       0.85      0.85      0.85      4961\n",
      "           1       0.85      0.85      0.85      5039\n",
      "\n",
      "    accuracy                           0.85     10000\n",
      "   macro avg       0.85      0.85      0.85     10000\n",
      "weighted avg       0.85      0.85      0.85     10000\n",
      "\n"
     ]
    }
   ],
   "source": [
    "# Load Pretrained W2V (Google News)\n",
    "print(\"\\n🔁 Loading Pretrained Word2Vec (Google News)...\")\n",
    "w2v_model = api.load('word2vec-google-news-300')\n",
    "\n",
    "# Vector Representation\n",
    "X_w2v = np.array([get_avg_vector(tokens, w2v_model, 300) for tokens in tqdm(df['tokens'])])\n",
    "\n",
    "# Train Model\n",
    "acc_w2v = train_model(X_w2v, df['label'].values, \"Pretrained Word2Vec\")"
   ]
  },
  {
   "cell_type": "code",
   "execution_count": 6,
   "metadata": {
    "trusted": true
   },
   "outputs": [
    {
     "name": "stdout",
     "output_type": "stream",
     "text": [
      "\n",
      "🔁 Training Custom Skip-gram...\n"
     ]
    },
    {
     "name": "stderr",
     "output_type": "stream",
     "text": [
      "100%|██████████| 50000/50000 [00:15<00:00, 3269.42it/s]\n"
     ]
    },
    {
     "name": "stdout",
     "output_type": "stream",
     "text": [
      "\n",
      "📊 Custom Skip-gram Accuracy: 0.8778\n",
      "              precision    recall  f1-score   support\n",
      "\n",
      "           0       0.88      0.88      0.88      4961\n",
      "           1       0.88      0.88      0.88      5039\n",
      "\n",
      "    accuracy                           0.88     10000\n",
      "   macro avg       0.88      0.88      0.88     10000\n",
      "weighted avg       0.88      0.88      0.88     10000\n",
      "\n"
     ]
    }
   ],
   "source": [
    "# Train Skip-gram Model\n",
    "print(\"\\n🔁 Training Custom Skip-gram...\")\n",
    "skipgram_model = Word2Vec(sentences=df['tokens'], vector_size=100, window=5, sg=1, min_count=2, workers=4)\n",
    "\n",
    "# Vector Representation\n",
    "X_sg = np.array([get_avg_vector(tokens, skipgram_model.wv, 100) for tokens in tqdm(df['tokens'])])\n",
    "\n",
    "# Train Model\n",
    "acc_sg = train_model(X_sg, df['label'].values, \"Custom Skip-gram\")"
   ]
  },
  {
   "cell_type": "code",
   "execution_count": 7,
   "metadata": {
    "trusted": true
   },
   "outputs": [
    {
     "name": "stdout",
     "output_type": "stream",
     "text": [
      "\n",
      "🔁 Training Custom CBOW...\n"
     ]
    },
    {
     "name": "stderr",
     "output_type": "stream",
     "text": [
      "100%|██████████| 50000/50000 [00:15<00:00, 3247.39it/s]\n"
     ]
    },
    {
     "name": "stdout",
     "output_type": "stream",
     "text": [
      "\n",
      "📊 Custom CBOW Accuracy: 0.8627\n",
      "              precision    recall  f1-score   support\n",
      "\n",
      "           0       0.87      0.86      0.86      4961\n",
      "           1       0.86      0.87      0.86      5039\n",
      "\n",
      "    accuracy                           0.86     10000\n",
      "   macro avg       0.86      0.86      0.86     10000\n",
      "weighted avg       0.86      0.86      0.86     10000\n",
      "\n"
     ]
    }
   ],
   "source": [
    "# Train CBOW Model\n",
    "print(\"\\n🔁 Training Custom CBOW...\")\n",
    "cbow_model = Word2Vec(sentences=df['tokens'], vector_size=100, window=5, sg=0, min_count=2, workers=4)\n",
    "\n",
    "# Vector Representation\n",
    "X_cbow = np.array([get_avg_vector(tokens, cbow_model.wv, 100) for tokens in tqdm(df['tokens'])])\n",
    "\n",
    "# Train Model\n",
    "acc_cbow = train_model(X_cbow, df['label'].values, \"Custom CBOW\")"
   ]
  },
  {
   "cell_type": "code",
   "execution_count": 8,
   "metadata": {
    "trusted": true
   },
   "outputs": [
    {
     "name": "stdout",
     "output_type": "stream",
     "text": [
      "\n",
      "🔁 Training Custom FastText...\n"
     ]
    },
    {
     "name": "stderr",
     "output_type": "stream",
     "text": [
      "100%|██████████| 50000/50000 [00:17<00:00, 2867.40it/s]\n"
     ]
    },
    {
     "name": "stdout",
     "output_type": "stream",
     "text": [
      "\n",
      "📊 Custom FastText Accuracy: 0.8530\n",
      "              precision    recall  f1-score   support\n",
      "\n",
      "           0       0.86      0.85      0.85      4961\n",
      "           1       0.85      0.86      0.86      5039\n",
      "\n",
      "    accuracy                           0.85     10000\n",
      "   macro avg       0.85      0.85      0.85     10000\n",
      "weighted avg       0.85      0.85      0.85     10000\n",
      "\n"
     ]
    }
   ],
   "source": [
    "# Train FastText Model\n",
    "print(\"\\n🔁 Training Custom FastText...\")\n",
    "fasttext_model = FastText(sentences=df['tokens'], vector_size=100, window=5, min_count=2, workers=4)\n",
    "\n",
    "# Vector Representation\n",
    "X_ft = np.array([get_avg_vector(tokens, fasttext_model.wv, 100) for tokens in tqdm(df['tokens'])])\n",
    "\n",
    "# Train Model\n",
    "acc_ft = train_model(X_ft, df['label'].values, \"Custom FastText\")"
   ]
  },
  {
   "cell_type": "code",
   "execution_count": 9,
   "metadata": {
    "trusted": true
   },
   "outputs": [
    {
     "name": "stdout",
     "output_type": "stream",
     "text": [
      "\n",
      "📋 Model Accuracy Comparison:\n",
      "                 Model  Accuracy\n",
      "0  Pretrained Word2Vec    0.8491\n",
      "1     Custom Skip-gram    0.8778\n",
      "2          Custom CBOW    0.8627\n",
      "3      Custom FastText    0.8530\n"
     ]
    }
   ],
   "source": [
    "# Tabulate All Results\n",
    "results = pd.DataFrame({\n",
    "    \"Model\": [\"Pretrained Word2Vec\", \"Custom Skip-gram\", \"Custom CBOW\", \"Custom FastText\"],\n",
    "    \"Accuracy\": [acc_w2v, acc_sg, acc_cbow, acc_ft]\n",
    "})\n",
    "\n",
    "print(\"\\n📋 Model Accuracy Comparison:\")\n",
    "print(results)"
   ]
  }
 ],
 "metadata": {
  "kaggle": {
   "accelerator": "none",
   "dataSources": [
    {
     "datasetId": 134715,
     "sourceId": 320111,
     "sourceType": "datasetVersion"
    }
   ],
   "dockerImageVersionId": 31089,
   "isGpuEnabled": false,
   "isInternetEnabled": true,
   "language": "python",
   "sourceType": "notebook"
  },
  "kernelspec": {
   "display_name": "Python 3",
   "language": "python",
   "name": "python3"
  },
  "language_info": {
   "codemirror_mode": {
    "name": "ipython",
    "version": 3
   },
   "file_extension": ".py",
   "mimetype": "text/x-python",
   "name": "python",
   "nbconvert_exporter": "python",
   "pygments_lexer": "ipython3",
   "version": "3.10.0"
  }
 },
 "nbformat": 4,
 "nbformat_minor": 4
}
