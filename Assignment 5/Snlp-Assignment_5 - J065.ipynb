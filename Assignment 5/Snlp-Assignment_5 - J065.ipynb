{
 "cells": [
  {
   "cell_type": "markdown",
   "metadata": {},
   "source": [
    "# SNLP Assignment 5: Duplicate Question Detection\n",
    "This notebook explores and compares various sentence transformer models and loss functions for detecting duplicate questions using the Quora dataset. Both bi-encoder and cross-encoder architectures are evaluated and their results are visualized."
   ]
  },
  {
   "cell_type": "markdown",
   "metadata": {},
   "source": [
    "**Section 1: Imports and Setup**\n",
    "This section imports all the necessary libraries, sets up the environment, and selects the device (CPU or GPU) for running the models."
   ]
  },
  {
   "cell_type": "code",
   "execution_count": 1,
   "metadata": {},
   "outputs": [
    {
     "name": "stdout",
     "output_type": "stream",
     "text": [
      "Using device: cpu\n"
     ]
    }
   ],
   "source": [
    "# Section 1: Imports and Setup\n",
    "import os\n",
    "os.environ[\"TRANSFORMERS_NO_TF\"] = \"1\"  # Prevent transformers from importing TensorFlow\n",
    "import pandas as pd\n",
    "import numpy as np\n",
    "import torch\n",
    "from torch.utils.data import DataLoader\n",
    "from sklearn.metrics import f1_score, accuracy_score\n",
    "from sklearn.model_selection import train_test_split\n",
    "from sentence_transformers import SentenceTransformer, InputExample, losses, util\n",
    "from sentence_transformers.cross_encoder import CrossEncoder\n",
    "from datasets import Dataset\n",
    "import matplotlib.pyplot as plt\n",
    "\n",
    "device = \"cuda\" if torch.cuda.is_available() else \"cpu\"\n",
    "print(\"Using device:\", device)"
   ]
  },
  {
   "cell_type": "markdown",
   "metadata": {},
   "source": [
    "**Section 2: Load and Prepare Data**\n",
    "This section loads the Quora dataset, handles missing values, renames columns if needed, and splits the data into training, validation, and test sets. It also prepares the data in the format required for model training."
   ]
  },
  {
   "cell_type": "code",
   "execution_count": 2,
   "metadata": {},
   "outputs": [
    {
     "name": "stdout",
     "output_type": "stream",
     "text": [
      "Dataset shape: (404287, 6)\n",
      "Train: 360219, Val: 40025, Test: 4043\n",
      "Train: 360219, Val: 40025, Test: 4043\n"
     ]
    }
   ],
   "source": [
    "# Section 2: Load and Prepare Data\n",
    "train_path = \"train.csv\"  # Update this path to your local file\n",
    "df = pd.read_csv(train_path)\n",
    "df = df.dropna(subset=[\"question1\", \"question2\"])\n",
    "if 'is_duplicate' in df.columns:\n",
    "    df = df.rename(columns={\"is_duplicate\": \"label\"})\n",
    "elif 'label' not in df.columns:\n",
    "    raise ValueError(\"Dataset must have a 'label' or 'is_duplicate' column.\")\n",
    "print(\"Dataset shape:\", df.shape)\n",
    "\n",
    "# Split data\n",
    "train_df, test_df = train_test_split(df, test_size=0.01, random_state=42, stratify=df[\"label\"])  # Reduced test size for faster evaluation\n",
    "train_df, val_df = train_test_split(train_df, test_size=0.1, random_state=42, stratify=train_df[\"label\"])\n",
    "print(f\"Train: {len(train_df)}, Val: {len(val_df)}, Test: {len(test_df)}\")\n",
    "\n",
    "def make_examples(df):\n",
    "    return [InputExample(texts=[q1, q2], label=float(label)) \n",
    "            for q1, q2, label in zip(df[\"question1\"], df[\"question2\"], df[\"label\"])]\n",
    "\n",
    "train_examples = make_examples(train_df)\n",
    "val_examples = make_examples(val_df)\n",
    "test_examples = make_examples(test_df)"
   ]
  },
  {
   "cell_type": "markdown",
   "metadata": {},
   "source": [
    "**Section 3: Helper Evaluation Functions**\n",
    "This section defines functions to evaluate the bi-encoder and cross-encoder models using F1 score and accuracy. These functions are used to assess model performance throughout the notebook."
   ]
  },
  {
   "cell_type": "code",
   "execution_count": 3,
   "metadata": {},
   "outputs": [],
   "source": [
    "# Section 3: Helper Evaluation Functions\n",
    "def evaluate_biencoder(model, examples, threshold=0.5):\n",
    "    q1_emb = model.encode([ex.texts[0] for ex in examples], convert_to_tensor=True, device=device)\n",
    "    q2_emb = model.encode([ex.texts[1] for ex in examples], convert_to_tensor=True, device=device)\n",
    "    sims = util.cos_sim(q1_emb, q2_emb).diagonal()\n",
    "    preds = (sims.cpu().numpy() > threshold).astype(int)\n",
    "    labels = [int(ex.label) for ex in examples]\n",
    "    f1 = f1_score(labels, preds)\n",
    "    acc = accuracy_score(labels, preds)\n",
    "    return f1, acc\n",
    "\n",
    "def evaluate_crossencoder(model, examples, threshold=0.5):\n",
    "    pairs = [(ex.texts[0], ex.texts[1]) for ex in examples]\n",
    "    scores = model.predict(pairs)\n",
    "    preds = (scores > threshold).astype(int)\n",
    "    labels = [int(ex.label) for ex in examples]\n",
    "    f1 = f1_score(labels, preds)\n",
    "    acc = accuracy_score(labels, preds)\n",
    "    return f1, acc\n",
    "\n",
    "results = {}"
   ]
  },
  {
   "cell_type": "markdown",
   "metadata": {},
   "source": [
    "**Section 4: Benchmark - Pretrained SBERT**\n",
    "This section evaluates a pretrained Sentence-BERT (SBERT) model on the test set as a baseline. The results serve as a reference for comparison with fine-tuned models."
   ]
  },
  {
   "cell_type": "code",
   "execution_count": 5,
   "metadata": {},
   "outputs": [
    {
     "name": "stderr",
     "output_type": "stream",
     "text": [
      "c:\\Users\\acer\\AppData\\Local\\Programs\\Python\\Python310\\lib\\site-packages\\torch\\nn\\modules\\module.py:1750: FutureWarning: `encoder_attention_mask` is deprecated and will be removed in version 4.55.0 for `BertSdpaSelfAttention.forward`.\n",
      "  return forward_call(*args, **kwargs)\n"
     ]
    },
    {
     "name": "stdout",
     "output_type": "stream",
     "text": [
      "Benchmark SBERT F1: 0.6441850410722006\n"
     ]
    }
   ],
   "source": [
    "# Section 4: Benchmark - Pretrained SBERT\n",
    "model_bench = SentenceTransformer(\"all-MiniLM-L6-v2\", device=device)\n",
    "f1, acc = evaluate_biencoder(model_bench, test_examples)\n",
    "results[\"Benchmark (SBERT pretrained)\"] = (f1, acc)\n",
    "print(\"Benchmark SBERT F1:\", f1)"
   ]
  },
  {
   "cell_type": "markdown",
   "metadata": {},
   "source": [
    "**Section 5: Bi-Encoder with Cosine Similarity Loss**\n",
    "This section fine-tunes a bi-encoder model using cosine similarity loss on a subset of the training data. The model's performance is then evaluated on the test set."
   ]
  },
  {
   "cell_type": "code",
   "execution_count": null,
   "metadata": {},
   "outputs": [
    {
     "data": {
      "application/vnd.jupyter.widget-view+json": {
       "model_id": "2113d29f81064ef0929caa95a653690d",
       "version_major": 2,
       "version_minor": 0
      },
      "text/plain": [
       "Computing widget examples:   0%|          | 0/1 [00:00<?, ?example/s]"
      ]
     },
     "metadata": {},
     "output_type": "display_data"
    },
    {
     "data": {
      "text/html": [
       "\n",
       "    <div>\n",
       "      \n",
       "      <progress value='157' max='157' style='width:300px; height:20px; vertical-align: middle;'></progress>\n",
       "      [157/157 03:57, Epoch 1/1]\n",
       "    </div>\n",
       "    <table border=\"1\" class=\"dataframe\">\n",
       "  <thead>\n",
       " <tr style=\"text-align: left;\">\n",
       "      <th>Step</th>\n",
       "      <th>Training Loss</th>\n",
       "    </tr>\n",
       "  </thead>\n",
       "  <tbody>\n",
       "  </tbody>\n",
       "</table><p>"
      ],
      "text/plain": [
       "<IPython.core.display.HTML object>"
      ]
     },
     "metadata": {},
     "output_type": "display_data"
    },
    {
     "name": "stdout",
     "output_type": "stream",
     "text": [
      "Cosine Loss F1: 0.7287113200156679\n"
     ]
    }
   ],
   "source": [
    "# Section 5: Bi-Encoder with Cosine Similarity Loss\n",
    "train_df_small = train_df.sample(5000, random_state=42)  # Reduced for faster execution\n",
    "train_examples_small = make_examples(train_df_small)\n",
    "train_dataloader = DataLoader(train_examples_small, shuffle=True, batch_size=32)\n",
    "epochs = 1\n",
    "warmup = 50\n",
    "model_cosine = SentenceTransformer(\"all-MiniLM-L6-v2\", device=device)\n",
    "train_loss = losses.CosineSimilarityLoss(model_cosine)\n",
    "model_cosine.fit(train_objectives=[(train_dataloader, train_loss)], epochs=epochs, warmup_steps=warmup, show_progress_bar=True)\n",
    "f1, acc = evaluate_biencoder(model_cosine, test_examples)\n",
    "results[\"Bi-Encoder (Cosine Loss)\"] = (f1, acc)\n",
    "print(\"Cosine Loss F1:\", f1)"
   ]
  },
  {
   "cell_type": "markdown",
   "metadata": {},
   "source": [
    "**Section 6: Bi-Encoder with Contrastive Loss**\n",
    "This section fine-tunes a bi-encoder model using contrastive loss, which encourages the model to bring similar pairs closer and push dissimilar pairs apart in the embedding space. The model is evaluated on the test set."
   ]
  },
  {
   "cell_type": "code",
   "execution_count": null,
   "metadata": {},
   "outputs": [
    {
     "data": {
      "application/vnd.jupyter.widget-view+json": {
       "model_id": "999555220b2d411eb0cf2b93e927c2f6",
       "version_major": 2,
       "version_minor": 0
      },
      "text/plain": [
       "Computing widget examples:   0%|          | 0/1 [00:00<?, ?example/s]"
      ]
     },
     "metadata": {},
     "output_type": "display_data"
    },
    {
     "name": "stderr",
     "output_type": "stream",
     "text": [
      "c:\\Users\\acer\\AppData\\Local\\Programs\\Python\\Python310\\lib\\site-packages\\torch\\nn\\modules\\module.py:1750: FutureWarning: `encoder_attention_mask` is deprecated and will be removed in version 4.55.0 for `BertSdpaSelfAttention.forward`.\n",
      "  return forward_call(*args, **kwargs)\n"
     ]
    },
    {
     "data": {
      "text/html": [
       "\n",
       "    <div>\n",
       "      \n",
       "      <progress value='157' max='157' style='width:300px; height:20px; vertical-align: middle;'></progress>\n",
       "      [157/157 04:08, Epoch 1/1]\n",
       "    </div>\n",
       "    <table border=\"1\" class=\"dataframe\">\n",
       "  <thead>\n",
       " <tr style=\"text-align: left;\">\n",
       "      <th>Step</th>\n",
       "      <th>Training Loss</th>\n",
       "    </tr>\n",
       "  </thead>\n",
       "  <tbody>\n",
       "  </tbody>\n",
       "</table><p>"
      ],
      "text/plain": [
       "<IPython.core.display.HTML object>"
      ]
     },
     "metadata": {},
     "output_type": "display_data"
    },
    {
     "name": "stdout",
     "output_type": "stream",
     "text": [
      "Contrastive Loss F1: 0.6577948446327684\n"
     ]
    }
   ],
   "source": [
    "# Section 6: Bi-Encoder with Contrastive Loss\n",
    "train_dataloader = DataLoader(train_examples_small, shuffle=True, batch_size=32)\n",
    "model_contrast = SentenceTransformer(\"all-MiniLM-L6-v2\", device=device)\n",
    "train_loss = losses.ContrastiveLoss(model_contrast)\n",
    "model_contrast.fit(train_objectives=[(train_dataloader, train_loss)], epochs=epochs, warmup_steps=warmup, show_progress_bar=True)\n",
    "f1, acc = evaluate_biencoder(model_contrast, test_examples)\n",
    "results[\"Bi-Encoder (Contrastive Loss)\"] = (f1, acc)\n",
    "print(\"Contrastive Loss F1:\", f1)"
   ]
  },
  {
   "cell_type": "markdown",
   "metadata": {},
   "source": [
    "**Section 7: Bi-Encoder with Multiple Negatives Ranking Loss**\n",
    "This section fine-tunes a bi-encoder model using Multiple Negatives Ranking Loss (MNRL), which is effective for retrieval tasks. The model is then evaluated on the test set."
   ]
  },
  {
   "cell_type": "code",
   "execution_count": null,
   "metadata": {},
   "outputs": [
    {
     "data": {
      "application/vnd.jupyter.widget-view+json": {
       "model_id": "a35c9ea9208847c3a0fdb286c2e68b0c",
       "version_major": 2,
       "version_minor": 0
      },
      "text/plain": [
       "Computing widget examples:   0%|          | 0/1 [00:00<?, ?example/s]"
      ]
     },
     "metadata": {},
     "output_type": "display_data"
    },
    {
     "name": "stderr",
     "output_type": "stream",
     "text": [
      "c:\\Users\\acer\\AppData\\Local\\Programs\\Python\\Python310\\lib\\site-packages\\torch\\nn\\modules\\module.py:1750: FutureWarning: `encoder_attention_mask` is deprecated and will be removed in version 4.55.0 for `BertSdpaSelfAttention.forward`.\n",
      "  return forward_call(*args, **kwargs)\n"
     ]
    },
    {
     "data": {
      "text/html": [
       "\n",
       "    <div>\n",
       "      \n",
       "      <progress value='157' max='157' style='width:300px; height:20px; vertical-align: middle;'></progress>\n",
       "      [157/157 03:25, Epoch 1/1]\n",
       "    </div>\n",
       "    <table border=\"1\" class=\"dataframe\">\n",
       "  <thead>\n",
       " <tr style=\"text-align: left;\">\n",
       "      <th>Step</th>\n",
       "      <th>Training Loss</th>\n",
       "    </tr>\n",
       "  </thead>\n",
       "  <tbody>\n",
       "  </tbody>\n",
       "</table><p>"
      ],
      "text/plain": [
       "<IPython.core.display.HTML object>"
      ]
     },
     "metadata": {},
     "output_type": "display_data"
    },
    {
     "name": "stdout",
     "output_type": "stream",
     "text": [
      "MNRL Loss F1: 0.6475921295793021\n"
     ]
    }
   ],
   "source": [
    "# Section 7: Bi-Encoder with Multiple Negatives Ranking Loss\n",
    "train_dataloader = DataLoader(train_examples_small, shuffle=True, batch_size=32)\n",
    "model_mnrl = SentenceTransformer(\"all-MiniLM-L6-v2\", device=device)\n",
    "train_loss = losses.MultipleNegativesRankingLoss(model_mnrl)\n",
    "model_mnrl.fit(train_objectives=[(train_dataloader, train_loss)], epochs=epochs, warmup_steps=warmup, show_progress_bar=True)\n",
    "f1, acc = evaluate_biencoder(model_mnrl, test_examples)\n",
    "results[\"Bi-Encoder (MNRL)\"] = (f1, acc)\n",
    "print(\"MNRL Loss F1:\", f1)"
   ]
  },
  {
   "cell_type": "markdown",
   "metadata": {},
   "source": [
    "**Section 8: Cross-Encoder**\n",
    "This section fine-tunes a cross-encoder model, which jointly encodes both questions in a pair and directly predicts their similarity. The model is trained and evaluated on the test set."
   ]
  },
  {
   "cell_type": "code",
   "execution_count": null,
   "metadata": {},
   "outputs": [
    {
     "name": "stderr",
     "output_type": "stream",
     "text": [
      "c:\\Users\\acer\\AppData\\Local\\Programs\\Python\\Python310\\lib\\site-packages\\torch\\nn\\modules\\module.py:1750: FutureWarning: `encoder_attention_mask` is deprecated and will be removed in version 4.55.0 for `BertSdpaSelfAttention.forward`.\n",
      "  return forward_call(*args, **kwargs)\n"
     ]
    },
    {
     "data": {
      "text/html": [
       "\n",
       "    <div>\n",
       "      \n",
       "      <progress value='313' max='313' style='width:300px; height:20px; vertical-align: middle;'></progress>\n",
       "      [313/313 02:45, Epoch 1/1]\n",
       "    </div>\n",
       "    <table border=\"1\" class=\"dataframe\">\n",
       "  <thead>\n",
       " <tr style=\"text-align: left;\">\n",
       "      <th>Step</th>\n",
       "      <th>Training Loss</th>\n",
       "    </tr>\n",
       "  </thead>\n",
       "  <tbody>\n",
       "  </tbody>\n",
       "</table><p>"
      ],
      "text/plain": [
       "<IPython.core.display.HTML object>"
      ]
     },
     "metadata": {},
     "output_type": "display_data"
    },
    {
     "name": "stdout",
     "output_type": "stream",
     "text": [
      "Cross-Encoder F1: 0.7303269737264727\n"
     ]
    }
   ],
   "source": [
    "# Section 8: Cross-Encoder\n",
    "train_data = [InputExample(texts=[row.question1, row.question2], label=row.label) for _, row in train_df_small.iterrows()]\n",
    "val_data = [InputExample(texts=[row.question1, row.question2], label=row.label) for _, row in val_df.iterrows()]\n",
    "train_dataloader = DataLoader(train_data, batch_size=16, shuffle=True)\n",
    "model_cross = CrossEncoder(\"cross-encoder/ms-marco-MiniLM-L-6-v2\", num_labels=1, device=device)\n",
    "model_cross.fit(train_dataloader=train_dataloader, evaluator=None, epochs=1, warmup_steps=50, show_progress_bar=True)\n",
    "f1, acc = evaluate_crossencoder(model_cross, test_examples)\n",
    "results[\"Cross-Encoder\"] = (f1, acc)\n",
    "print(\"Cross-Encoder F1:\", f1)"
   ]
  },
  {
   "cell_type": "markdown",
   "metadata": {},
   "source": [
    "**Section 9: Final Comparison**\n",
    "This section compares the F1 scores and accuracy of all evaluated models and visualizes the results using a horizontal bar chart."
   ]
  },
  {
   "cell_type": "code",
   "execution_count": null,
   "metadata": {},
   "outputs": [
    {
     "name": "stdout",
     "output_type": "stream",
     "text": [
      "\n",
      "=== Final Comparison (F1, Accuracy) ===\n",
      "Bi-Encoder (Cosine Loss): F1=0.7287, Accuracy=0.7430\n",
      "Bi-Encoder (Contrastive Loss): F1=0.6578, Accuracy=0.6165\n",
      "Bi-Encoder (MNRL): F1=0.6476, Accuracy=0.5991\n",
      "Cross-Encoder: F1=0.7303, Accuracy=0.7923\n",
      "Benchmark (SBERT pretrained): F1=0.6442, Accuracy=0.5927\n"
     ]
    },
    {
     "data": {
      "image/png": "[encoded data removed]",
      "text/plain": [
       "<Figure size 1000x600 with 1 Axes>"
      ]
     },
     "metadata": {},
     "output_type": "display_data"
    }
   ],
   "source": [
    "# Section 9: Final Comparison\n",
    "print(\"\\n=== Final Comparison (F1, Accuracy) ===\")\n",
    "for model_name, (f1, acc) in results.items():\n",
    "    print(f\"{model_name}: F1={f1:.4f}, Accuracy={acc:.4f}\")\n",
    "\n",
    "labels = list(results.keys())\n",
    "f1_scores = [v[0] for v in results.values()]\n",
    "plt.figure(figsize=(10,6))\n",
    "plt.barh(labels, f1_scores, color=\"skyblue\")\n",
    "plt.xlabel(\"F1 Score\")\n",
    "plt.title(\"Model Comparison on Quora Duplicate Questions\")\n",
    "plt.gca().invert_yaxis()\n",
    "plt.show()"
   ]
  },
  {
   "cell_type": "markdown",
   "metadata": {},
   "source": [
    "# Conclusion\n",
    "In this notebook, we compared several sentence transformer models and loss functions for the task of duplicate question detection. The results show the impact of different training objectives and architectures (bi-encoder vs. cross-encoder) on model performance. Cross-encoders generally achieve higher accuracy but are slower at inference, while bi-encoders are more efficient for large-scale retrieval. The visual comparison helps in selecting the best approach for practical applications."
   ]
  }
 ],
 "metadata": {
  "kaggle": {
   "accelerator": "gpu",
   "dataSources": [
    {
     "databundleVersionId": 323734,
     "sourceId": 6277,
     "sourceType": "competition"
    }
   ],
   "dockerImageVersionId": 31089,
   "isGpuEnabled": true,
   "isInternetEnabled": true,
   "language": "python",
   "sourceType": "notebook"
  },
  "kernelspec": {
   "display_name": "Python 3",
   "language": "python",
   "name": "python3"
  },
  "language_info": {
   "codemirror_mode": {
    "name": "ipython",
    "version": 3
   },
   "file_extension": ".py",
   "mimetype": "text/x-python",
   "name": "python",
   "nbconvert_exporter": "python",
   "pygments_lexer": "ipython3",
   "version": "3.10.0"
  }
 },
 "nbformat": 4,
 "nbformat_minor": 4
}
